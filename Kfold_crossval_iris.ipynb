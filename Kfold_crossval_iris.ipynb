{
 "cells": [
  {
   "cell_type": "markdown",
   "metadata": {
    "colab_type": "text",
    "id": "view-in-github"
   },
   "source": [
    "<a href=\"https://colab.research.google.com/github/gy23/PracticeMachineLearning/blob/master/Practice_kfold_crossval_iris.ipynb\" target=\"_parent\"><img src=\"https://colab.research.google.com/assets/colab-badge.svg\" alt=\"Open In Colab\"/></a>"
   ]
  },
  {
   "cell_type": "code",
   "execution_count": 0,
   "metadata": {
    "colab": {},
    "colab_type": "code",
    "id": "kKY9lPL1DUeq"
   },
   "outputs": [],
   "source": [
    "import pandas as pd \n",
    "import numpy as np"
   ]
  },
  {
   "cell_type": "code",
   "execution_count": 0,
   "metadata": {
    "colab": {},
    "colab_type": "code",
    "id": "6RfmL33g4H1t"
   },
   "outputs": [],
   "source": [
    "from sklearn.datasets import load_iris\n",
    "from sklearn.tree import DecisionTreeClassifier\n",
    "from sklearn.model_selection import train_test_split\n",
    "\n",
    "# Everyone knows this dataset so I skipped EDA. "
   ]
  },
  {
   "cell_type": "code",
   "execution_count": 3,
   "metadata": {
    "colab": {
     "base_uri": "https://localhost:8080/",
     "height": 102
    },
    "colab_type": "code",
    "id": "lf-eFxDzDRAk",
    "outputId": "883a8ad4-4ec0-4e72-d80a-85a6ae88276f"
   },
   "outputs": [
    {
     "name": "stdout",
     "output_type": "stream",
     "text": [
      "[0 0 0 0 0 0 0 0 0 0 0 0 0 0 0 0 0 0 0 0 0 0 0 0 0 0 0 0 0 0 0 0 0 0 0 0 0\n",
      " 0 0 0 0 0 0 0 0 0 0 0 0 0 1 1 1 1 1 1 1 1 1 1 1 1 1 1 1 1 1 1 1 1 1 1 1 1\n",
      " 1 1 1 1 1 1 1 1 1 1 1 1 1 1 1 1 1 1 1 1 1 1 1 1 1 1 2 2 2 2 2 2 2 2 2 2 2\n",
      " 2 2 2 2 2 2 2 2 2 2 2 2 2 2 2 2 2 2 2 2 2 2 2 2 2 2 2 2 2 2 2 2 2 2 2 2 2\n",
      " 2 2]\n"
     ]
    }
   ],
   "source": [
    "#Loading iris data set\n",
    "iris = load_iris()\n",
    "# print(iris_data.keys())\n",
    "X = iris.data #NumPy\n",
    "y = iris.target\n",
    "#print(X)\n",
    "print(y)\n"
   ]
  },
  {
   "cell_type": "code",
   "execution_count": 4,
   "metadata": {
    "colab": {
     "base_uri": "https://localhost:8080/",
     "height": 85
    },
    "colab_type": "code",
    "id": "_5QmG_4EDES9",
    "outputId": "571457ce-cea2-4054-bfe0-74ce991d50b4"
   },
   "outputs": [
    {
     "name": "stdout",
     "output_type": "stream",
     "text": [
      "2    50\n",
      "1    50\n",
      "0    50\n",
      "Name: target, dtype: int64\n"
     ]
    }
   ],
   "source": [
    "# To see the data easily in DataFrame\n",
    "iris_df = pd.DataFrame(data=X, columns=iris.feature_names)\n",
    "iris_df['target'] = iris.target #Generating a column for target value\n",
    "iris_df.head(5)\n",
    "print(iris_df['target'].value_counts())"
   ]
  },
  {
   "cell_type": "code",
   "execution_count": 0,
   "metadata": {
    "colab": {},
    "colab_type": "code",
    "id": "QyZHBM2fElyD"
   },
   "outputs": [],
   "source": [
    "# Train, Test set Split\n",
    "X_train, X_test, y_train, y_test = train_test_split(X, y, test_size=0.3, random_state=11)"
   ]
  },
  {
   "cell_type": "code",
   "execution_count": 0,
   "metadata": {
    "colab": {},
    "colab_type": "code",
    "id": "3R2VkEjmFg1n"
   },
   "outputs": [],
   "source": [
    "# Generate Decision Tree Classifier\n",
    "dt_clf = DecisionTreeClassifier(random_state =11)"
   ]
  },
  {
   "cell_type": "code",
   "execution_count": 7,
   "metadata": {
    "colab": {
     "base_uri": "https://localhost:8080/",
     "height": 119
    },
    "colab_type": "code",
    "id": "mm62PEEzGSPC",
    "outputId": "0cb75294-b184-4920-e028-7e48725cb04a"
   },
   "outputs": [
    {
     "data": {
      "text/plain": [
       "DecisionTreeClassifier(ccp_alpha=0.0, class_weight=None, criterion='gini',\n",
       "                       max_depth=None, max_features=None, max_leaf_nodes=None,\n",
       "                       min_impurity_decrease=0.0, min_impurity_split=None,\n",
       "                       min_samples_leaf=1, min_samples_split=2,\n",
       "                       min_weight_fraction_leaf=0.0, presort='deprecated',\n",
       "                       random_state=11, splitter='best')"
      ]
     },
     "execution_count": 7,
     "metadata": {
      "tags": []
     },
     "output_type": "execute_result"
    }
   ],
   "source": [
    "# Fitting\n",
    "dt_clf.fit(X_train, y_train)"
   ]
  },
  {
   "cell_type": "code",
   "execution_count": 0,
   "metadata": {
    "colab": {},
    "colab_type": "code",
    "id": "C9MPYQ80GWOw"
   },
   "outputs": [],
   "source": [
    "# Prediction\n",
    "pred = dt_clf.predict(X_test)"
   ]
  },
  {
   "cell_type": "code",
   "execution_count": 9,
   "metadata": {
    "colab": {
     "base_uri": "https://localhost:8080/",
     "height": 34
    },
    "colab_type": "code",
    "id": "_sFo7-TBGc9P",
    "outputId": "5b4e7ef4-956b-4910-fb74-9f9f25ca8576"
   },
   "outputs": [
    {
     "name": "stdout",
     "output_type": "stream",
     "text": [
      "Accuracy: 0.911111\n"
     ]
    }
   ],
   "source": [
    "# To calculate accuracy\n",
    "from sklearn.metrics import accuracy_score\n",
    "print(\"Accuracy: {0:4f}\".format(accuracy_score(y_test, pred)))"
   ]
  },
  {
   "cell_type": "markdown",
   "metadata": {
    "colab_type": "text",
    "id": "0WJAR7cBVHG7"
   },
   "source": [
    "# Practice K-Fold\n",
    "  - Perform regular K-Fold\n",
    "  - Why regular K-Fold is not good for Classification problems"
   ]
  },
  {
   "cell_type": "markdown",
   "metadata": {
    "colab_type": "text",
    "id": "VQoJ8K1EVqJZ"
   },
   "source": [
    "## Perfom regular K-Fold"
   ]
  },
  {
   "cell_type": "code",
   "execution_count": 10,
   "metadata": {
    "colab": {
     "base_uri": "https://localhost:8080/",
     "height": 34
    },
    "colab_type": "code",
    "id": "gz6Btox0_vrP",
    "outputId": "9dc79c7f-a1f8-4eba-8104-9e57524c5b5a"
   },
   "outputs": [
    {
     "name": "stdout",
     "output_type": "stream",
     "text": [
      "Size of Iris dataset: 150\n"
     ]
    }
   ],
   "source": [
    "from sklearn.model_selection import KFold\n",
    "\n",
    "kfold = KFold(n_splits=5)\n",
    "\n",
    "print(\"Size of Iris dataset:\", X.shape[0])"
   ]
  },
  {
   "cell_type": "code",
   "execution_count": 11,
   "metadata": {
    "colab": {
     "base_uri": "https://localhost:8080/",
     "height": 289
    },
    "colab_type": "code",
    "id": "36RUOgsqAhw0",
    "outputId": "298d7dac-a7a3-4f4d-a653-b6341a510d3d"
   },
   "outputs": [
    {
     "name": "stdout",
     "output_type": "stream",
     "text": [
      "1. Accuracy: 1.0, Size of Train set: 120, Size of Test set: 30\n",
      "1. Index of test: [ 0  1  2  3  4  5  6  7  8  9 10 11 12 13 14 15 16 17 18 19 20 21 22 23\n",
      " 24 25 26 27 28 29]\n",
      "2. Accuracy: 0.9667, Size of Train set: 120, Size of Test set: 30\n",
      "2. Index of test: [30 31 32 33 34 35 36 37 38 39 40 41 42 43 44 45 46 47 48 49 50 51 52 53\n",
      " 54 55 56 57 58 59]\n",
      "3. Accuracy: 0.8667, Size of Train set: 120, Size of Test set: 30\n",
      "3. Index of test: [60 61 62 63 64 65 66 67 68 69 70 71 72 73 74 75 76 77 78 79 80 81 82 83\n",
      " 84 85 86 87 88 89]\n",
      "4. Accuracy: 0.9333, Size of Train set: 120, Size of Test set: 30\n",
      "4. Index of test: [ 90  91  92  93  94  95  96  97  98  99 100 101 102 103 104 105 106 107\n",
      " 108 109 110 111 112 113 114 115 116 117 118 119]\n",
      "5. Accuracy: 0.8333, Size of Train set: 120, Size of Test set: 30\n",
      "5. Index of test: [120 121 122 123 124 125 126 127 128 129 130 131 132 133 134 135 136 137\n",
      " 138 139 140 141 142 143 144 145 146 147 148 149]\n",
      "Average accuracy:  0.9200000000000002\n"
     ]
    }
   ],
   "source": [
    "cv_accuracy = []\n",
    "n_iter=0\n",
    "\n",
    "# Store index for train/test set as array\n",
    "for train_index, test_index in kfold.split(X):\n",
    "  X2_train, X2_test = X[train_index], X[test_index]\n",
    "  y2_train, y2_test = y[train_index], y[test_index]\n",
    "\n",
    "  # fit and predict\n",
    "  dt_clf.fit(X2_train, y2_train)\n",
    "  pred2 = dt_clf.predict(X2_test)\n",
    "  n_iter += 1\n",
    "\n",
    "  # Accuracy\n",
    "  accuracy = np.round(accuracy_score(y2_test, pred2), 4)\n",
    "  train_size = X2_train.shape[0]\n",
    "  test_size = X2_test.shape[0]\n",
    "  print(\"{0}. Accuracy: {1}, Size of Train set: {2}, Size of Test set: {3}\".format(n_iter, accuracy, train_size, test_size))\n",
    "  print(\"{0}. Index of test: {1}\".format(n_iter, test_index))\n",
    "  cv_accuracy.append(accuracy)\n",
    "\n",
    "print(\"Average accuracy: \", np.mean(cv_accuracy))\n"
   ]
  },
  {
   "cell_type": "markdown",
   "metadata": {
    "colab_type": "text",
    "id": "RHEctQHqVw56"
   },
   "source": [
    "## Why regular K-Fold is not good for Classification problems"
   ]
  },
  {
   "cell_type": "code",
   "execution_count": 12,
   "metadata": {
    "colab": {
     "base_uri": "https://localhost:8080/",
     "height": 425
    },
    "colab_type": "code",
    "id": "hYEH2iWtIw2Y",
    "outputId": "645ca492-2580-4f5c-a118-fefafbdded75"
   },
   "outputs": [
    {
     "name": "stdout",
     "output_type": "stream",
     "text": [
      "KFold: 1\n",
      "Ratio of train set for the target column:\n",
      " 2    50\n",
      "1    50\n",
      "Name: target, dtype: int64\n",
      "Ratio of test set for the target column:\n",
      " 0    50\n",
      "Name: target, dtype: int64\n",
      "KFold: 2\n",
      "Ratio of train set for the target column:\n",
      " 2    50\n",
      "0    50\n",
      "Name: target, dtype: int64\n",
      "Ratio of test set for the target column:\n",
      " 1    50\n",
      "Name: target, dtype: int64\n",
      "KFold: 3\n",
      "Ratio of train set for the target column:\n",
      " 1    50\n",
      "0    50\n",
      "Name: target, dtype: int64\n",
      "Ratio of test set for the target column:\n",
      " 2    50\n",
      "Name: target, dtype: int64\n"
     ]
    }
   ],
   "source": [
    "kfold2 = KFold(n_splits=3)\n",
    "\n",
    "n_iter = 0\n",
    "for train_index, test_index in kfold2.split(iris_df):\n",
    "  n_iter += 1\n",
    "\n",
    "  target_train = iris_df['target'].iloc[train_index]\n",
    "  target_test = iris_df['target'].iloc[test_index]\n",
    "  print('KFold: {}'.format(n_iter))\n",
    "  \n",
    "  print(\"Ratio of train set for the target column:\\n\", target_train.value_counts())\n",
    "  print(\"Ratio of test set for the target column:\\n\", target_test.value_counts())"
   ]
  },
  {
   "cell_type": "code",
   "execution_count": 0,
   "metadata": {
    "colab": {},
    "colab_type": "code",
    "id": "C9J9BOTYXRxX"
   },
   "outputs": [],
   "source": [
    "# Seeing the result above, the first KFold trained only data with target values 1 and 2 not 0.  "
   ]
  },
  {
   "cell_type": "markdown",
   "metadata": {
    "colab_type": "text",
    "id": "l5dB3oytcmHV"
   },
   "source": [
    "## Perform Stratified KFold"
   ]
  },
  {
   "cell_type": "code",
   "execution_count": 14,
   "metadata": {
    "colab": {
     "base_uri": "https://localhost:8080/",
     "height": 578
    },
    "colab_type": "code",
    "id": "y1TeYeUbZ_lh",
    "outputId": "33253379-9e0c-45bc-9200-af4d05656eaa"
   },
   "outputs": [
    {
     "name": "stdout",
     "output_type": "stream",
     "text": [
      "Stratifeid KFold: 1\n",
      "Ratio of train set for the target column:\n",
      " 2    34\n",
      "1    33\n",
      "0    33\n",
      "Name: target, dtype: int64\n",
      "Ratio of test set for the target column:\n",
      " 1    17\n",
      "0    17\n",
      "2    16\n",
      "Name: target, dtype: int64\n",
      "Stratifeid KFold: 2\n",
      "Ratio of train set for the target column:\n",
      " 1    34\n",
      "2    33\n",
      "0    33\n",
      "Name: target, dtype: int64\n",
      "Ratio of test set for the target column:\n",
      " 2    17\n",
      "0    17\n",
      "1    16\n",
      "Name: target, dtype: int64\n",
      "Stratifeid KFold: 3\n",
      "Ratio of train set for the target column:\n",
      " 0    34\n",
      "2    33\n",
      "1    33\n",
      "Name: target, dtype: int64\n",
      "Ratio of test set for the target column:\n",
      " 2    17\n",
      "1    17\n",
      "0    16\n",
      "Name: target, dtype: int64\n"
     ]
    }
   ],
   "source": [
    "from sklearn.model_selection import StratifiedKFold\n",
    "skt = StratifiedKFold(n_splits=3)\n",
    "\n",
    "n_iter = 0\n",
    "for train_index, test_index in skt.split(iris_df, iris_df['target']):\n",
    "  n_iter+=1\n",
    "\n",
    "  target_train = iris_df['target'].iloc[train_index]\n",
    "  target_test = iris_df['target'].iloc[test_index]\n",
    "  \n",
    "  print(\"Stratifeid KFold: {}\".format(n_iter))\n",
    "  print(\"Ratio of train set for the target column:\\n\", target_train.value_counts())\n",
    "  print(\"Ratio of test set for the target column:\\n\", target_test.value_counts())\n"
   ]
  },
  {
   "cell_type": "code",
   "execution_count": 15,
   "metadata": {
    "colab": {
     "base_uri": "https://localhost:8080/",
     "height": 34
    },
    "colab_type": "code",
    "id": "htshQwcxinZ5",
    "outputId": "a4d99a5f-3da7-4df1-9b3d-85408eb7c9c5"
   },
   "outputs": [
    {
     "data": {
      "text/plain": [
       "(150,)"
      ]
     },
     "execution_count": 15,
     "metadata": {
      "tags": []
     },
     "output_type": "execute_result"
    }
   ],
   "source": [
    "y.shape"
   ]
  },
  {
   "cell_type": "code",
   "execution_count": 16,
   "metadata": {
    "colab": {
     "base_uri": "https://localhost:8080/",
     "height": 255
    },
    "colab_type": "code",
    "id": "tfwVTp8BfH1z",
    "outputId": "04688ba9-804a-4c54-b5ca-0747d86db2dc"
   },
   "outputs": [
    {
     "name": "stdout",
     "output_type": "stream",
     "text": [
      "1. Accuracy: 0.98, Size of Train set: 100, Size of Test set: 50\n",
      "1. Index of test: [  0   1   2   3   4   5   6   7   8   9  10  11  12  13  14  15  16  50\n",
      "  51  52  53  54  55  56  57  58  59  60  61  62  63  64  65  66 100 101\n",
      " 102 103 104 105 106 107 108 109 110 111 112 113 114 115]\n",
      "2. Accuracy: 0.92, Size of Train set: 100, Size of Test set: 50\n",
      "2. Index of test: [ 17  18  19  20  21  22  23  24  25  26  27  28  29  30  31  32  33  67\n",
      "  68  69  70  71  72  73  74  75  76  77  78  79  80  81  82 116 117 118\n",
      " 119 120 121 122 123 124 125 126 127 128 129 130 131 132]\n",
      "3. Accuracy: 0.98, Size of Train set: 100, Size of Test set: 50\n",
      "3. Index of test: [ 34  35  36  37  38  39  40  41  42  43  44  45  46  47  48  49  83  84\n",
      "  85  86  87  88  89  90  91  92  93  94  95  96  97  98  99 133 134 135\n",
      " 136 137 138 139 140 141 142 143 144 145 146 147 148 149]\n",
      "Accuracy for each k:  [0.98, 0.92, 0.98]\n",
      "Average accuracy:  0.96\n"
     ]
    }
   ],
   "source": [
    "# Checking Accuracy of each fold and its index\n",
    "n_iter = 0\n",
    "cv_accuracy = []\n",
    "for train_index, test_index in skt.split(X, y):\n",
    "  X_train, X_test = X[train_index], X[test_index]\n",
    "  y_train, y_test = y[train_index], y[test_index]\n",
    "  # train and predict\n",
    "  dt_clf.fit(X_train, y_train)\n",
    "  pred = dt_clf.predict(X_test)\n",
    "  # Accuracy for each k \n",
    "  n_iter += 1\n",
    "  accuracy = np.round(accuracy_score(y_test, pred), 4)\n",
    "  train_size = X_train.shape[0]\n",
    "  test_size = X_test.shape[0]\n",
    "  print(\"{0}. Accuracy: {1}, Size of Train set: {2}, Size of Test set: {3}\".format(n_iter, accuracy, train_size, test_size))\n",
    "  print(\"{0}. Index of test: {1}\".format(n_iter, test_index))\n",
    "  cv_accuracy.append(accuracy)\n",
    "\n",
    "print(\"Accuracy for each k: \", cv_accuracy)\n",
    "print(\"Average accuracy: \", np.mean(cv_accuracy))"
   ]
  },
  {
   "cell_type": "markdown",
   "metadata": {
    "colab_type": "text",
    "id": "zAm-YoSNG6_3"
   },
   "source": [
    "## Cross Validation  (For regressor: KFold, For classfier: Stratified KFold)"
   ]
  },
  {
   "cell_type": "code",
   "execution_count": 23,
   "metadata": {
    "colab": {
     "base_uri": "https://localhost:8080/",
     "height": 51
    },
    "colab_type": "code",
    "id": "IiydZ0TjiR-z",
    "outputId": "0fbe4a4b-97fc-4901-b4ac-10cdf970749b"
   },
   "outputs": [
    {
     "name": "stdout",
     "output_type": "stream",
     "text": [
      "[0.98 0.92 0.98]\n",
      "0.96\n"
     ]
    }
   ],
   "source": [
    "from sklearn.model_selection import cross_val_score, cross_validate\n",
    "\n",
    "scores = cross_val_score(dt_clf, X, y, scoring=\"accuracy\", cv=3)\n",
    "print(scores)\n",
    "print(np.mean(scores))\n"
   ]
  }
 ],
 "metadata": {
  "colab": {
   "authorship_tag": "ABX9TyM1g2o/X6n3uXpOVX2Y6zNp",
   "include_colab_link": true,
   "name": "Practice_kfold_crossval_iris.ipynb",
   "provenance": []
  },
  "kernelspec": {
   "display_name": "Python 3",
   "language": "python",
   "name": "python3"
  },
  "language_info": {
   "codemirror_mode": {
    "name": "ipython",
    "version": 3
   },
   "file_extension": ".py",
   "mimetype": "text/x-python",
   "name": "python",
   "nbconvert_exporter": "python",
   "pygments_lexer": "ipython3",
   "version": "3.7.6"
  }
 },
 "nbformat": 4,
 "nbformat_minor": 1
}
