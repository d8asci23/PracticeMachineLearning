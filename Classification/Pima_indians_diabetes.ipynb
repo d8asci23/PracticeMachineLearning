{
 "cells": [
  {
   "cell_type": "code",
   "execution_count": 0,
   "metadata": {
    "colab": {},
    "colab_type": "code",
    "id": "y58TZ-s9cf_E"
   },
   "outputs": [],
   "source": [
    "import numpy as np\n",
    "import pandas as pd\n",
    "import matplotlib.pyplot as plt\n",
    "import seaborn as sns\n",
    "%matplotlib inline"
   ]
  },
  {
   "cell_type": "code",
   "execution_count": 0,
   "metadata": {
    "colab": {},
    "colab_type": "code",
    "id": "lBKPwfy1dsxN"
   },
   "outputs": [],
   "source": [
    "from sklearn.model_selection import train_test_split\n",
    "from sklearn.metrics import accuracy_score, precision_score, recall_score, roc_auc_score\n",
    "from sklearn.metrics import f1_score, confusion_matrix, precision_recall_curve, roc_curve\n",
    "from sklearn.preprocessing import StandardScaler"
   ]
  },
  {
   "cell_type": "code",
   "execution_count": 0,
   "metadata": {
    "colab": {},
    "colab_type": "code",
    "id": "y7Ts0QIeeI9w"
   },
   "outputs": [],
   "source": [
    "from sklearn.linear_model import LogisticRegression"
   ]
  },
  {
   "cell_type": "code",
   "execution_count": 4,
   "metadata": {
    "colab": {
     "base_uri": "https://localhost:8080/",
     "height": 142
    },
    "colab_type": "code",
    "id": "WaQgNLw6dOjY",
    "outputId": "50fe3b24-98d8-4209-ac9b-af81ee54de85"
   },
   "outputs": [
    {
     "data": {
      "text/html": [
       "<div>\n",
       "<style scoped>\n",
       "    .dataframe tbody tr th:only-of-type {\n",
       "        vertical-align: middle;\n",
       "    }\n",
       "\n",
       "    .dataframe tbody tr th {\n",
       "        vertical-align: top;\n",
       "    }\n",
       "\n",
       "    .dataframe thead th {\n",
       "        text-align: right;\n",
       "    }\n",
       "</style>\n",
       "<table border=\"1\" class=\"dataframe\">\n",
       "  <thead>\n",
       "    <tr style=\"text-align: right;\">\n",
       "      <th></th>\n",
       "      <th>Pregnancies</th>\n",
       "      <th>Glucose</th>\n",
       "      <th>BloodPressure</th>\n",
       "      <th>SkinThickness</th>\n",
       "      <th>Insulin</th>\n",
       "      <th>BMI</th>\n",
       "      <th>DiabetesPedigreeFunction</th>\n",
       "      <th>Age</th>\n",
       "      <th>Outcome</th>\n",
       "    </tr>\n",
       "  </thead>\n",
       "  <tbody>\n",
       "    <tr>\n",
       "      <th>0</th>\n",
       "      <td>6</td>\n",
       "      <td>148</td>\n",
       "      <td>72</td>\n",
       "      <td>35</td>\n",
       "      <td>0</td>\n",
       "      <td>33.6</td>\n",
       "      <td>0.627</td>\n",
       "      <td>50</td>\n",
       "      <td>1</td>\n",
       "    </tr>\n",
       "    <tr>\n",
       "      <th>1</th>\n",
       "      <td>1</td>\n",
       "      <td>85</td>\n",
       "      <td>66</td>\n",
       "      <td>29</td>\n",
       "      <td>0</td>\n",
       "      <td>26.6</td>\n",
       "      <td>0.351</td>\n",
       "      <td>31</td>\n",
       "      <td>0</td>\n",
       "    </tr>\n",
       "    <tr>\n",
       "      <th>2</th>\n",
       "      <td>8</td>\n",
       "      <td>183</td>\n",
       "      <td>64</td>\n",
       "      <td>0</td>\n",
       "      <td>0</td>\n",
       "      <td>23.3</td>\n",
       "      <td>0.672</td>\n",
       "      <td>32</td>\n",
       "      <td>1</td>\n",
       "    </tr>\n",
       "  </tbody>\n",
       "</table>\n",
       "</div>"
      ],
      "text/plain": [
       "   Pregnancies  Glucose  BloodPressure  ...  DiabetesPedigreeFunction  Age  Outcome\n",
       "0            6      148             72  ...                     0.627   50        1\n",
       "1            1       85             66  ...                     0.351   31        0\n",
       "2            8      183             64  ...                     0.672   32        1\n",
       "\n",
       "[3 rows x 9 columns]"
      ]
     },
     "execution_count": 4,
     "metadata": {
      "tags": []
     },
     "output_type": "execute_result"
    }
   ],
   "source": [
    "# Read\n",
    "diabetes_df = pd.read_csv('/content/drive/My Drive/Colab Notebooks/diabetes.csv')\n",
    "diabetes_df.head(3)"
   ]
  },
  {
   "cell_type": "code",
   "execution_count": 5,
   "metadata": {
    "colab": {
     "base_uri": "https://localhost:8080/",
     "height": 68
    },
    "colab_type": "code",
    "id": "n6CC9j-PefqM",
    "outputId": "c1eb86cf-ab7e-4be4-e89f-99dafa643a5f"
   },
   "outputs": [
    {
     "data": {
      "text/plain": [
       "0    500\n",
       "1    268\n",
       "Name: Outcome, dtype: int64"
      ]
     },
     "execution_count": 5,
     "metadata": {
      "tags": []
     },
     "output_type": "execute_result"
    }
   ],
   "source": [
    "diabetes_df['Outcome'].value_counts()"
   ]
  },
  {
   "cell_type": "code",
   "execution_count": 6,
   "metadata": {
    "colab": {
     "base_uri": "https://localhost:8080/",
     "height": 595
    },
    "colab_type": "code",
    "id": "d0XhW57hetnf",
    "outputId": "19d5a372-f840-4b60-9a58-dbb501106de6"
   },
   "outputs": [
    {
     "name": "stdout",
     "output_type": "stream",
     "text": [
      "<class 'pandas.core.frame.DataFrame'>\n",
      "RangeIndex: 768 entries, 0 to 767\n",
      "Data columns (total 9 columns):\n",
      "Pregnancies                 768 non-null int64\n",
      "Glucose                     768 non-null int64\n",
      "BloodPressure               768 non-null int64\n",
      "SkinThickness               768 non-null int64\n",
      "Insulin                     768 non-null int64\n",
      "BMI                         768 non-null float64\n",
      "DiabetesPedigreeFunction    768 non-null float64\n",
      "Age                         768 non-null int64\n",
      "Outcome                     768 non-null int64\n",
      "dtypes: float64(2), int64(7)\n",
      "memory usage: 54.1 KB\n",
      "None\n",
      "       Pregnancies     Glucose  BloodPressure  SkinThickness     Insulin  \\\n",
      "count   768.000000  768.000000     768.000000     768.000000  768.000000   \n",
      "mean      3.845052  120.894531      69.105469      20.536458   79.799479   \n",
      "std       3.369578   31.972618      19.355807      15.952218  115.244002   \n",
      "min       0.000000    0.000000       0.000000       0.000000    0.000000   \n",
      "25%       1.000000   99.000000      62.000000       0.000000    0.000000   \n",
      "50%       3.000000  117.000000      72.000000      23.000000   30.500000   \n",
      "75%       6.000000  140.250000      80.000000      32.000000  127.250000   \n",
      "max      17.000000  199.000000     122.000000      99.000000  846.000000   \n",
      "\n",
      "              BMI  DiabetesPedigreeFunction         Age     Outcome  \n",
      "count  768.000000                768.000000  768.000000  768.000000  \n",
      "mean    31.992578                  0.471876   33.240885    0.348958  \n",
      "std      7.884160                  0.331329   11.760232    0.476951  \n",
      "min      0.000000                  0.078000   21.000000    0.000000  \n",
      "25%     27.300000                  0.243750   24.000000    0.000000  \n",
      "50%     32.000000                  0.372500   29.000000    0.000000  \n",
      "75%     36.600000                  0.626250   41.000000    1.000000  \n",
      "max     67.100000                  2.420000   81.000000    1.000000  \n"
     ]
    }
   ],
   "source": [
    "print(diabetes_df.info())\n",
    "\n",
    "with pd.option_context('display.max_columns', 40):\n",
    "    print(diabetes_df.describe(include='all'))"
   ]
  },
  {
   "cell_type": "code",
   "execution_count": 7,
   "metadata": {
    "colab": {
     "base_uri": "https://localhost:8080/",
     "height": 625
    },
    "colab_type": "code",
    "id": "-ZzWLpvhgMut",
    "outputId": "1622051d-8eea-4830-a8ee-f7dc77876147"
   },
   "outputs": [
    {
     "data": {
      "text/plain": [
       "<matplotlib.axes._subplots.AxesSubplot at 0x7f5ab2d06ac8>"
      ]
     },
     "execution_count": 7,
     "metadata": {
      "tags": []
     },
     "output_type": "execute_result"
    },
    {
     "data": {
      "image/png": "[encoded data removed]",
      "text/plain": [
       "<Figure size 1440x720 with 6 Axes>"
      ]
     },
     "metadata": {
      "tags": []
     },
     "output_type": "display_data"
    }
   ],
   "source": [
    "f, axes = plt.subplots(2, 3, figsize=(20, 10), sharex=True)\n",
    "sns.distplot(diabetes_df[\"Glucose\"] , color=\"skyblue\", ax=axes[0, 0])\n",
    "sns.distplot(diabetes_df[\"BloodPressure\"] , color=\"olive\", ax=axes[0, 1])\n",
    "sns.distplot(diabetes_df[\"SkinThickness\"] , color=\"gold\", ax=axes[0, 2])\n",
    "sns.distplot(diabetes_df[\"Insulin\"] , color=\"teal\", ax=axes[1, 0])\n",
    "sns.distplot(diabetes_df[\"BMI\"] , color=\"orange\", ax=axes[1, 1])\n",
    "sns.distplot(diabetes_df[\"Pregnancies\"] , color=\"red\", ax=axes[1, 2])"
   ]
  },
  {
   "cell_type": "code",
   "execution_count": 8,
   "metadata": {
    "colab": {
     "base_uri": "https://localhost:8080/",
     "height": 299
    },
    "colab_type": "code",
    "id": "9QKxYqgaka-I",
    "outputId": "0efd6efd-5e8d-4bfb-ac26-0e8e4b2e989c"
   },
   "outputs": [
    {
     "data": {
      "text/plain": [
       "<matplotlib.axes._subplots.AxesSubplot at 0x7f5ab2e55908>"
      ]
     },
     "execution_count": 8,
     "metadata": {
      "tags": []
     },
     "output_type": "execute_result"
    },
    {
     "data": {
      "image/png": "[encoded data removed]",
      "text/plain": [
       "<Figure size 432x288 with 1 Axes>"
      ]
     },
     "metadata": {
      "tags": []
     },
     "output_type": "display_data"
    }
   ],
   "source": [
    "sns.distplot(diabetes_df[\"Glucose\"] , color=\"skyblue\")"
   ]
  },
  {
   "cell_type": "code",
   "execution_count": 9,
   "metadata": {
    "colab": {
     "base_uri": "https://localhost:8080/",
     "height": 102
    },
    "colab_type": "code",
    "id": "DyPjShtskfGV",
    "outputId": "182812a1-ad34-4270-8cfa-c56b302cfac6"
   },
   "outputs": [
    {
     "name": "stdout",
     "output_type": "stream",
     "text": [
      "Glucose's 0 counts: 5, percent:0.65%\n",
      "BloodPressure's 0 counts: 35, percent:4.56%\n",
      "SkinThickness's 0 counts: 227, percent:29.56%\n",
      "Insulin's 0 counts: 374, percent:48.70%\n",
      "BMI's 0 counts: 11, percent:1.43%\n"
     ]
    }
   ],
   "source": [
    "zero_features = ['Glucose', 'BloodPressure', 'SkinThickness', 'Insulin', 'BMI']\n",
    "\n",
    "total_count=diabetes_df['Glucose'].count()\n",
    "\n",
    "for feature in zero_features:\n",
    "  zero_count=diabetes_df[diabetes_df[feature]==0][feature].count()\n",
    "  print(\"{0}'s 0 counts: {1}, percent:{2:.2f}%\".format(feature, zero_count, 100*zero_count/total_count) )"
   ]
  },
  {
   "cell_type": "code",
   "execution_count": 10,
   "metadata": {
    "colab": {
     "base_uri": "https://localhost:8080/",
     "height": 119
    },
    "colab_type": "code",
    "id": "c-UaqMC9vJDE",
    "outputId": "53642b9e-266c-49ba-af4a-0ee02486b917"
   },
   "outputs": [
    {
     "name": "stdout",
     "output_type": "stream",
     "text": [
      "Glucose          120.894531\n",
      "BloodPressure     69.105469\n",
      "SkinThickness     20.536458\n",
      "Insulin           79.799479\n",
      "BMI               31.992578\n",
      "dtype: float64\n"
     ]
    }
   ],
   "source": [
    "# replace 0 to mean value\n",
    "mean_zero_features = diabetes_df[zero_features].mean()\n",
    "print(mean_zero_features)\n",
    "diabetes_df[zero_features] = diabetes_df[zero_features].replace(0, mean_zero_features)"
   ]
  },
  {
   "cell_type": "code",
   "execution_count": 0,
   "metadata": {
    "colab": {},
    "colab_type": "code",
    "id": "qXwux-pyyBdA"
   },
   "outputs": [],
   "source": [
    "# Standard Scaling\n",
    "X = diabetes_df.iloc[:,:-1]\n",
    "y = diabetes_df.iloc[:, -1]\n",
    "\n",
    "scaler = StandardScaler()\n",
    "X_scaled = scaler.fit_transform(X)"
   ]
  },
  {
   "cell_type": "code",
   "execution_count": 0,
   "metadata": {
    "colab": {},
    "colab_type": "code",
    "id": "nA8bvC8_ruZY"
   },
   "outputs": [],
   "source": [
    "# Train_test_split\n",
    "X_train, X_test, y_train, y_test = train_test_split(X_scaled, y, test_size = 0.2, random_state=156, stratify=y) "
   ]
  },
  {
   "cell_type": "code",
   "execution_count": 0,
   "metadata": {
    "colab": {},
    "colab_type": "code",
    "id": "0bKI4e2isWnz"
   },
   "outputs": [],
   "source": [
    "# Fit and Predict\n",
    "lr_clf = LogisticRegression()\n",
    "lr_clf.fit(X_train, y_train)\n",
    "pred = lr_clf.predict(X_test)\n"
   ]
  },
  {
   "cell_type": "code",
   "execution_count": 0,
   "metadata": {
    "colab": {},
    "colab_type": "code",
    "id": "lSMsUBqHsqwm"
   },
   "outputs": [],
   "source": [
    "# Build get_clf_eval function\n",
    "def get_clf_eval(y_test, pred):\n",
    "  confusion = confusion_matrix(y_test, pred)\n",
    "  accuracy = accuracy_score(y_test, pred)\n",
    "  precision = precision_score(y_test, pred)\n",
    "  recall = recall_score(y_test, pred)\n",
    "  roc_auc = roc_auc_score(y_test, pred)\n",
    "\n",
    "  f1 = f1_score(y_test, pred)\n",
    "  print(\"Confusion Matris\")\n",
    "  print(confusion)\n",
    "  print(\"Accuracy: {0:.4f}, Precision: {1:.4f}, Recall: {2:.4f}, f1: {3:.4f}, AUC: {4:.4f}\".format(accuracy, precision, recall, f1, roc_auc))\n"
   ]
  },
  {
   "cell_type": "code",
   "execution_count": 36,
   "metadata": {
    "colab": {
     "base_uri": "https://localhost:8080/",
     "height": 85
    },
    "colab_type": "code",
    "id": "Pd2xohuCtkso",
    "outputId": "8e375236-57ad-4c1c-8afe-52a0239a7b4b"
   },
   "outputs": [
    {
     "name": "stdout",
     "output_type": "stream",
     "text": [
      "Confusion Matris\n",
      "[[90 10]\n",
      " [21 33]]\n",
      "Accuracy: 0.7987, Precision: 0.7674, Recall: 0.6111, f1: 0.6804, AUC: 0.7556\n"
     ]
    }
   ],
   "source": [
    "# Evaluation\n",
    "get_clf_eval(y_test, pred)"
   ]
  },
  {
   "cell_type": "code",
   "execution_count": 0,
   "metadata": {
    "colab": {},
    "colab_type": "code",
    "id": "skkFed7VwSTZ"
   },
   "outputs": [],
   "source": [
    "# To improve recall score: using binary thresholds (Trade-off between prescion and recall)\n",
    "thresholds = [0.3, 0.33, 0.36, 0.39, 0.42, 0.45, 0.48, 0.50]"
   ]
  },
  {
   "cell_type": "code",
   "execution_count": 0,
   "metadata": {
    "colab": {},
    "colab_type": "code",
    "id": "Wa6iFBhEwsyu"
   },
   "outputs": [],
   "source": [
    "# Build get_eval_by_threshold function\n",
    "from sklearn.preprocessing import Binarizer\n",
    "\n",
    "def get_eval_by_threshold(y_test, pred_proba, thresholds):\n",
    "  for threshold in thresholds:\n",
    "    binarizer = Binarizer(threshold=threshold).fit(pred_proba)\n",
    "    custom_predict = binarizer.transform(pred_proba)\n",
    "    print(\"Threshold: \", threshold)\n",
    "    get_clf_eval(y_test, custom_predict)\n",
    "    print(\"\\n\")"
   ]
  },
  {
   "cell_type": "code",
   "execution_count": 41,
   "metadata": {
    "colab": {
     "base_uri": "https://localhost:8080/",
     "height": 969
    },
    "colab_type": "code",
    "id": "bAHaKCARx0vm",
    "outputId": "a4bdb321-4085-4560-d126-012c99cb1a49"
   },
   "outputs": [
    {
     "name": "stdout",
     "output_type": "stream",
     "text": [
      "Threshold:  0.3\n",
      "Confusion Matris\n",
      "[[67 33]\n",
      " [11 43]]\n",
      "Accuracy: 0.7143, Precision: 0.5658, Recall: 0.7963, f1: 0.6615, AUC: 0.7331\n",
      "\n",
      "\n",
      "Threshold:  0.33\n",
      "Confusion Matris\n",
      "[[72 28]\n",
      " [12 42]]\n",
      "Accuracy: 0.7403, Precision: 0.6000, Recall: 0.7778, f1: 0.6774, AUC: 0.7489\n",
      "\n",
      "\n",
      "Threshold:  0.36\n",
      "Confusion Matris\n",
      "[[76 24]\n",
      " [15 39]]\n",
      "Accuracy: 0.7468, Precision: 0.6190, Recall: 0.7222, f1: 0.6667, AUC: 0.7411\n",
      "\n",
      "\n",
      "Threshold:  0.39\n",
      "Confusion Matris\n",
      "[[78 22]\n",
      " [16 38]]\n",
      "Accuracy: 0.7532, Precision: 0.6333, Recall: 0.7037, f1: 0.6667, AUC: 0.7419\n",
      "\n",
      "\n",
      "Threshold:  0.42\n",
      "Confusion Matris\n",
      "[[84 16]\n",
      " [18 36]]\n",
      "Accuracy: 0.7792, Precision: 0.6923, Recall: 0.6667, f1: 0.6792, AUC: 0.7533\n",
      "\n",
      "\n",
      "Threshold:  0.45\n",
      "Confusion Matris\n",
      "[[85 15]\n",
      " [18 36]]\n",
      "Accuracy: 0.7857, Precision: 0.7059, Recall: 0.6667, f1: 0.6857, AUC: 0.7583\n",
      "\n",
      "\n",
      "Threshold:  0.48\n",
      "Confusion Matris\n",
      "[[88 12]\n",
      " [19 35]]\n",
      "Accuracy: 0.7987, Precision: 0.7447, Recall: 0.6481, f1: 0.6931, AUC: 0.7641\n",
      "\n",
      "\n",
      "Threshold:  0.5\n",
      "Confusion Matris\n",
      "[[90 10]\n",
      " [21 33]]\n",
      "Accuracy: 0.7987, Precision: 0.7674, Recall: 0.6111, f1: 0.6804, AUC: 0.7556\n",
      "\n",
      "\n"
     ]
    }
   ],
   "source": [
    "pred_proba = lr_clf.predict_proba(X_test)\n",
    "get_eval_by_threshold(y_test, pred_proba[:,1].reshape(-1, 1), thresholds)"
   ]
  }
 ],
 "metadata": {
  "colab": {
   "authorship_tag": "ABX9TyOT+KvClVqyaztQ/D6HIbyQ",
   "collapsed_sections": [],
   "mount_file_id": "18x369ct2pmiECOX0w-wnjAsWCN7hYuBt",
   "name": "Pima_indians_diabetes.ipynb",
   "provenance": []
  },
  "kernelspec": {
   "display_name": "Python 3",
   "language": "python",
   "name": "python3"
  },
  "language_info": {
   "codemirror_mode": {
    "name": "ipython",
    "version": 3
   },
   "file_extension": ".py",
   "mimetype": "text/x-python",
   "name": "python",
   "nbconvert_exporter": "python",
   "pygments_lexer": "ipython3",
   "version": "3.7.6"
  }
 },
 "nbformat": 4,
 "nbformat_minor": 1
}
